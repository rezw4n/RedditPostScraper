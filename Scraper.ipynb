{
 "cells": [
  {
   "cell_type": "code",
   "execution_count": 1,
   "metadata": {},
   "outputs": [],
   "source": [
    "import json\n",
    "import requests"
   ]
  },
  {
   "cell_type": "code",
   "execution_count": 2,
   "metadata": {},
   "outputs": [],
   "source": [
    "headers = {\"method\": \"GET\",\n",
    "\"scheme\": \"https\",\n",
    "\"accept\": \"text/html,application/xhtml+xml,application/xml;q=0.9,image/avif,image/webp,image/apng,*/*;q=0.8,application/signed-exchange;v=b3;q=0.9\",\n",
    "\"user-agent\": r\"Mozilla/5.0 (Windows NT 10.0; Win64; x64) AppleWebKit/537.36 (KHTML, like Gecko) Chrome/87.0.4280.141 Safari/537.36\"}"
   ]
  },
  {
   "cell_type": "code",
   "execution_count": 3,
   "metadata": {},
   "outputs": [],
   "source": [
    "whole_json = requests.get(\"https://gateway.reddit.com/desktopapi/v1/subreddits/iwantout?rtj=only&redditWebClient=web2x&app=web2x-client-production&allow_over18=1&include=identity&after=1\", headers=headers).json()"
   ]
  },
  {
   "cell_type": "code",
   "execution_count": 4,
   "metadata": {},
   "outputs": [
    {
     "data": {
      "text/plain": [
       "dict_keys(['authorFlair', 'postIds', 'posts', 'profiles', 'subreddits', 'postFlair', 'postInstances', 'token', 'dist', 'account', 'features', 'listingSort', 'subredditPermissions', 'preferences', 'subredditAboutInfo', 'userFlair', 'structuredStyles'])"
      ]
     },
     "execution_count": 4,
     "metadata": {},
     "output_type": "execute_result"
    }
   ],
   "source": [
    "whole_json.keys()"
   ]
  },
  {
   "cell_type": "code",
   "execution_count": 5,
   "metadata": {},
   "outputs": [],
   "source": [
    "# whole_json['posts'].keys()"
   ]
  },
  {
   "cell_type": "code",
   "execution_count": 6,
   "metadata": {},
   "outputs": [],
   "source": [
    "post_ids = [i for i in whole_json['posts'].keys() if len(i) < 15]"
   ]
  },
  {
   "cell_type": "code",
   "execution_count": 7,
   "metadata": {},
   "outputs": [
    {
     "data": {
      "text/plain": [
       "['t3_kovc1p',\n",
       " 't3_kx7v7i',\n",
       " 't3_kicnoe',\n",
       " 't3_kx96fv',\n",
       " 't3_kwv7u6',\n",
       " 't3_kxew9h',\n",
       " 't3_kxcxju',\n",
       " 't3_kxcgv6',\n",
       " 't3_kxcud6',\n",
       " 't3_kxc6us',\n",
       " 't3_kx61ol',\n",
       " 't3_kwil9r',\n",
       " 't3_kx6qas',\n",
       " 't3_kx5hg9',\n",
       " 't3_kx0hk2',\n",
       " 't3_kx51h6',\n",
       " 't3_goxxlb',\n",
       " 't3_kwt5o1',\n",
       " 't3_kwuds1',\n",
       " 't3_kwns9t',\n",
       " 't3_kws02e',\n",
       " 't3_kwxvy1',\n",
       " 't3_kwnq2v',\n",
       " 't3_kw5f5j',\n",
       " 't3_kwuj97',\n",
       " 't3_kwyvef',\n",
       " 't3_kwl8dp',\n",
       " 't3_kwhppd']"
      ]
     },
     "execution_count": 7,
     "metadata": {},
     "output_type": "execute_result"
    }
   ],
   "source": [
    "post_ids"
   ]
  },
  {
   "cell_type": "code",
   "execution_count": 8,
   "metadata": {},
   "outputs": [],
   "source": [
    "last_post = post_ids[-1]"
   ]
  },
  {
   "cell_type": "code",
   "execution_count": 9,
   "metadata": {},
   "outputs": [
    {
     "data": {
      "text/plain": [
       "'[IWantOut] 35M US Blue Card Holder -> Germany'"
      ]
     },
     "execution_count": 9,
     "metadata": {},
     "output_type": "execute_result"
    }
   ],
   "source": [
    "whole_json['posts'][post_ids[-1]]['title']"
   ]
  },
  {
   "cell_type": "code",
   "execution_count": 10,
   "metadata": {},
   "outputs": [
    {
     "name": "stdout",
     "output_type": "stream",
     "text": [
      "[Meta] New Tag and an \"Official Source\" Wiki\n",
      "[WeWantOut] 32M/31F business professionals Atlanta, GA USA -> Western mountainous USA\n",
      "Prove you're the best bladesmith! Master Bladesmith VR. **20% off for a limited time on Steam!**\n",
      "[IWantOut] 22F IT Engineer India -> Germany\n",
      "[Citizenship] -> France: Can I naturalize from Canada without living in France for 5 years?\n",
      "[IWANTOUT] 18M Saudi Arabia -> Canada\n",
      "[WeWantOut] 23M Linguist 22F Unemployed Russia -> Germany\n",
      "[IWANTOUT] 22M UK -> USA\n",
      "[WeWantOut] 24F/23F USA -> France\n",
      "[IWantOut] 21M UK Canadian Law Student -> USA\n",
      "[IWantOut] 20M System Administrator Malta -> Australia\n",
      "[WeWantOut] 36M Marketing Consultant 28F Stay At Home Mom Boston, MA -> Anywhere in USA\n",
      "[IWantOut] 25F Pharmacist Pakistan -> Germany/Norway/Finland\n",
      "[IWantOut] 21m SA -> AUS or NZ\n",
      "[IWantOut] 21F Student USA -> Anywhere\n",
      "[IWantOut] 20sF India -> Ireland\n",
      "Your phone can only do so much :(. Switch to Android Gaming on PC with BlueStacks and level up your gaming experience.\n",
      "[IWantOut] 26M Game Developer Argentina -> Netherlands/New Zealand\n",
      "[IWantOut] 32M Plumber Canada -> Anywhere\n",
      "[IWantOut] 24M Software Engineer USA -> Canada/Australia/UK\n",
      "[WeWantOut] 28M Digital Marketing Manager 28F Dental Hygienist UK-> Australia\n",
      "[IWantOut] 21M Student Taiwan -> Norway/Vermont, Washington and Wisconsin\n",
      "[IWantOut] 19M Student Pakistan -> Somewhere In Europe\n",
      "[IWantOut] 19M algeria -> Anywhere\n",
      "[WeWantOut] 30M/28F Software Engineer/HR Manager US -> DE\n",
      "[IWantOut] 20M America -> Anywhere In Europe\n",
      "[Citizenship] -> Croatia : Do I need both immigration and naturalization or can I just apply with immigration papers?\n",
      "[IWantOut] 35M US Blue Card Holder -> Germany\n"
     ]
    }
   ],
   "source": [
    "for i in post_ids:\n",
    "    print(whole_json['posts'][i]['title'])"
   ]
  },
  {
   "cell_type": "code",
   "execution_count": 11,
   "metadata": {},
   "outputs": [
    {
     "name": "stdout",
     "output_type": "stream",
     "text": [
      "[IWantOut] 22F IT Engineer India -> Germany\n",
      "[IWANTOUT] 18M Saudi Arabia -> Canada\n",
      "[IWANTOUT] 22M UK -> USA\n",
      "[IWantOut] 21M UK Canadian Law Student -> USA\n",
      "[IWantOut] 20M System Administrator Malta -> Australia\n",
      "[IWantOut] 25F Pharmacist Pakistan -> Germany/Norway/Finland\n",
      "[IWantOut] 21m SA -> AUS or NZ\n",
      "[IWantOut] 21F Student USA -> Anywhere\n",
      "[IWantOut] 20sF India -> Ireland\n",
      "[IWantOut] 26M Game Developer Argentina -> Netherlands/New Zealand\n",
      "[IWantOut] 32M Plumber Canada -> Anywhere\n",
      "[IWantOut] 24M Software Engineer USA -> Canada/Australia/UK\n",
      "[IWantOut] 21M Student Taiwan -> Norway/Vermont, Washington and Wisconsin\n",
      "[IWantOut] 19M Student Pakistan -> Somewhere In Europe\n",
      "[IWantOut] 19M algeria -> Anywhere\n",
      "[IWantOut] 20M America -> Anywhere In Europe\n",
      "[IWantOut] 35M US Blue Card Holder -> Germany\n"
     ]
    }
   ],
   "source": [
    "for i in post_ids:\n",
    "    if whole_json['posts'][i]['title'].lower().startswith('[iwantout]'):\n",
    "        print(whole_json['posts'][i]['title'])"
   ]
  },
  {
   "cell_type": "code",
   "execution_count": 12,
   "metadata": {},
   "outputs": [
    {
     "data": {
      "text/plain": [
       "['[IWantOut] 22F IT Engineer India -> Germany',\n",
       " '[IWANTOUT] 18M Saudi Arabia -> Canada',\n",
       " '[IWANTOUT] 22M UK -> USA',\n",
       " '[IWantOut] 21M UK Canadian Law Student -> USA',\n",
       " '[IWantOut] 20M System Administrator Malta -> Australia',\n",
       " '[IWantOut] 25F Pharmacist Pakistan -> Germany/Norway/Finland',\n",
       " '[IWantOut] 21m SA -> AUS or NZ',\n",
       " '[IWantOut] 21F Student USA -> Anywhere',\n",
       " '[IWantOut] 20sF India -> Ireland',\n",
       " '[IWantOut] 26M Game Developer Argentina -> Netherlands/New Zealand',\n",
       " '[IWantOut] 32M Plumber Canada -> Anywhere',\n",
       " '[IWantOut] 24M Software Engineer USA -> Canada/Australia/UK',\n",
       " '[IWantOut] 21M Student Taiwan -> Norway/Vermont, Washington and Wisconsin',\n",
       " '[IWantOut] 19M Student Pakistan -> Somewhere In Europe',\n",
       " '[IWantOut] 19M algeria -> Anywhere',\n",
       " '[IWantOut] 20M America -> Anywhere In Europe',\n",
       " '[IWantOut] 35M US Blue Card Holder -> Germany']"
      ]
     },
     "execution_count": 12,
     "metadata": {},
     "output_type": "execute_result"
    }
   ],
   "source": [
    "data = [whole_json['posts'][i]['title'] for i in post_ids if whole_json['posts'][i]['title'].lower().startswith('[iwantout]')]\n",
    "data"
   ]
  },
  {
   "cell_type": "code",
   "execution_count": 13,
   "metadata": {},
   "outputs": [],
   "source": [
    "def parser(subreddit_name, pages, last_post=1):\n",
    "    for i in range(pages):\n",
    "        url = f\"https://gateway.reddit.com/desktopapi/v1/subreddits/{subreddit_name}?rtj=only&redditWebClient=web2x&app=web2x-client-production&allow_over18=1&include=identity&after={last_post}\"\n",
    "        whole_json = requests.get(url, headers=headers).json()\n",
    "        post_ids = [i for i in whole_json['posts'].keys() if len(i) < 15]\n",
    "        last_post = post_ids[-1]\n",
    "        data = [whole_json['posts'][i]['title'] for i in post_ids if whole_json['posts'][i]['title'].lower().startswith('[iwantout]')]\n",
    "        with open(\"reddit_data.txt\", \"a\") as f:\n",
    "            f.write(\",\\n\".join(data) + \"\\n\")\n",
    "        print(f\"Added {len(data)} new lines of data to reddit_data.txt\")\n",
    "    print(\"Done\")"
   ]
  },
  {
   "cell_type": "code",
   "execution_count": 14,
   "metadata": {},
   "outputs": [],
   "source": [
    "parser('iwantout', 5)"
   ]
  }
 ],
 "metadata": {
  "kernelspec": {
   "display_name": "Python 3",
   "language": "python",
   "name": "python3"
  },
  "language_info": {
   "codemirror_mode": {
    "name": "ipython",
    "version": 3
   },
   "file_extension": ".py",
   "mimetype": "text/x-python",
   "name": "python",
   "nbconvert_exporter": "python",
   "pygments_lexer": "ipython3",
   "version": "3.8.6"
  }
 },
 "nbformat": 4,
 "nbformat_minor": 4
}
