{
 "cells": [
  {
   "cell_type": "code",
   "execution_count": 1,
   "id": "11bca2d6-30ad-49b7-bf7a-3fe6b1eff988",
   "metadata": {},
   "outputs": [],
   "source": [
    "import requests\n",
    "import json\n",
    "from datetime import datetime\n",
    "import time"
   ]
  },
  {
   "cell_type": "code",
   "execution_count": 2,
   "id": "9b322a4c-fa03-4f6d-86d1-4c9faa270574",
   "metadata": {},
   "outputs": [],
   "source": [
    "subreddit = \"iwantout\""
   ]
  },
  {
   "cell_type": "code",
   "execution_count": 3,
   "id": "c516c1b1-4226-4806-a230-a4537e516843",
   "metadata": {},
   "outputs": [],
   "source": [
    "url = f\"https://api.pushshift.io/reddit/submission/search?limit=1000&sort=desc&subreddit={subreddit}&before=\""
   ]
  },
  {
   "cell_type": "code",
   "execution_count": 4,
   "id": "30397e96-56af-4e84-ad8e-f5882ccd24e5",
   "metadata": {},
   "outputs": [],
   "source": [
    "data = requests.get(url).text"
   ]
  },
  {
   "cell_type": "code",
   "execution_count": 5,
   "id": "fb5ca7b8-9699-47b7-94e0-53cbef9bd16c",
   "metadata": {},
   "outputs": [],
   "source": [
    "data = json.loads(data)"
   ]
  },
  {
   "cell_type": "code",
   "execution_count": 6,
   "id": "fda71b77-48a5-438f-b03b-cb82ee1aec45",
   "metadata": {},
   "outputs": [
    {
     "data": {
      "text/plain": [
       "{'all_awardings': [],\n",
       " 'allow_live_comments': False,\n",
       " 'author': 'ali_sater',\n",
       " 'author_flair_css_class': None,\n",
       " 'author_flair_richtext': [],\n",
       " 'author_flair_text': None,\n",
       " 'author_flair_type': 'text',\n",
       " 'author_fullname': 't2_5t7zebve',\n",
       " 'author_patreon_flair': False,\n",
       " 'author_premium': False,\n",
       " 'awarders': [],\n",
       " 'can_mod_post': False,\n",
       " 'contest_mode': False,\n",
       " 'created_utc': 1625658479,\n",
       " 'domain': 'self.IWantOut',\n",
       " 'full_link': 'https://www.reddit.com/r/IWantOut/comments/ofh9sr/iwantout_22m_lebanon_anywhere/',\n",
       " 'gildings': {},\n",
       " 'id': 'ofh9sr',\n",
       " 'is_created_from_ads_ui': False,\n",
       " 'is_crosspostable': True,\n",
       " 'is_meta': False,\n",
       " 'is_original_content': False,\n",
       " 'is_reddit_media_domain': False,\n",
       " 'is_robot_indexable': True,\n",
       " 'is_self': True,\n",
       " 'is_video': False,\n",
       " 'link_flair_background_color': '',\n",
       " 'link_flair_richtext': [],\n",
       " 'link_flair_text_color': 'dark',\n",
       " 'link_flair_type': 'text',\n",
       " 'locked': False,\n",
       " 'media_only': False,\n",
       " 'no_follow': True,\n",
       " 'num_comments': 0,\n",
       " 'num_crossposts': 0,\n",
       " 'over_18': False,\n",
       " 'parent_whitelist_status': 'all_ads',\n",
       " 'permalink': '/r/IWantOut/comments/ofh9sr/iwantout_22m_lebanon_anywhere/',\n",
       " 'pinned': False,\n",
       " 'pwls': 6,\n",
       " 'retrieved_on': 1625658490,\n",
       " 'score': 1,\n",
       " 'selftext': \"I'm lebanese and the situation in my country right now is unbearable because of the government it's like we lebanese people are living in hell. Im looking to go out so i can study or work and get started with my life because there is no future for me here.\\n\\nIf anyone can help or give some advice I'd appreciate that so much.\",\n",
       " 'send_replies': True,\n",
       " 'spoiler': False,\n",
       " 'stickied': False,\n",
       " 'subreddit': 'IWantOut',\n",
       " 'subreddit_id': 't5_2r5hw',\n",
       " 'subreddit_subscribers': 1206778,\n",
       " 'subreddit_type': 'public',\n",
       " 'thumbnail': 'self',\n",
       " 'title': '[IWantOut] 22M lebanon -&gt; anywhere',\n",
       " 'total_awards_received': 0,\n",
       " 'treatment_tags': [],\n",
       " 'upvote_ratio': 1.0,\n",
       " 'url': 'https://www.reddit.com/r/IWantOut/comments/ofh9sr/iwantout_22m_lebanon_anywhere/',\n",
       " 'whitelist_status': 'all_ads',\n",
       " 'wls': 6}"
      ]
     },
     "execution_count": 6,
     "metadata": {},
     "output_type": "execute_result"
    }
   ],
   "source": [
    "data['data'][0]"
   ]
  },
  {
   "cell_type": "code",
   "execution_count": 7,
   "id": "e360bf8f-4fa8-4914-8d01-80b11e6176e1",
   "metadata": {},
   "outputs": [
    {
     "name": "stdout",
     "output_type": "stream",
     "text": [
      "2021-07-07 [IWantOut] 22M lebanon -&gt; anywhere\n",
      "2021-07-07 [IWANTOUT]22M LEBANON&gt;ANYWHERE\n",
      "2021-07-07 [IWantOut] 29M Data Analyst South Africa -&gt; UK\n",
      "2021-07-07 [Discussion] Is there any way for vaccinated, non-EU residents to get the EU vaccine passport?\n",
      "2021-07-07 [IWantOut] 42F UK -&gt; USA\n",
      "2021-07-07 [IWantOut] 32m India -&gt; Canada\n",
      "2021-07-07 [IWantOut] 32 M India -&gt; Canada\n",
      "2021-07-07 [IWantOut] 42F UK &gt; USA\n",
      "2021-07-07 [IWantOut] 19F future psychologist Georgia -&gt; UK/Canada/New Zealand/Australia/Germany\n",
      "2021-07-07 19F; psychologists; Georgia -&gt; UK/Australia/New Zealand/Canada/ Germany\n",
      "2021-07-07 [IWANTOUT] 21M pharmacist-&gt; US\n",
      "2021-07-07 [IWantOut] 22F Cuba Engineer -&gt; Anywhere\n",
      "2021-07-07 [IWantOut] 29M Canada -&gt; Anywhere\n",
      "2021-07-07 [IWantOut] 24F Engineer Vancouver -&gt; London\n",
      "2021-07-07 [IWantOut] 24F Electrical Building Engineer Graduate, Vancouver -&gt; London, UK\n",
      "2021-07-07 [WeWantOut] 22F 23M Spain -&gt; USA\n",
      "2021-07-07 [IWantOut] 24F Vancouver -&gt; London, UK\n",
      "2021-07-07 Third Country National US Visa - During/Post COVID\n",
      "2021-07-07 19M Oregon -&gt; Germany\n",
      "2021-07-07 [IWantOut] 19nb Oregonian-&gt; Germany\n",
      "2021-07-07 [IWantOut] 19 non binary -&gt; Germany\n",
      "2021-07-07 [IWantOut] 29M Civil Engineer Indonesia -&gt; Portugal\n",
      "2021-07-07 [IWantOut] 29 M Indonesia -&gt; Portugal\n",
      "2021-07-07 [IWantOut] 20sF USA -&gt; Italy\n",
      "2021-07-07 Jure Sanguinis - Is it worth it and do I qualify?\n",
      "2021-07-07 [IWantOut] 23M IT Beginner Canada -&gt; Anywhere but NA\n",
      "2021-07-07 [IWantOut] 23M Canada IT &gt; Anywhere but NA\n",
      "2021-07-07 Moving Abroad No Degree\n",
      "2021-07-07 50M Georgia -&gt; Anywhere\n",
      "2021-07-07 [IWantOut] 35M finance professional Canada -&gt; Anywhere\n",
      "2021-07-07 Moved to Germany on a Job Seeker Visa? Pay it forward!\n",
      "2021-07-07 Working holiday visa: Help\n",
      "2021-07-07 Applying for WHV while in another EU country at the time\n",
      "2021-07-07 [IWantOut] 19M Welder US -&gt; Germany\n",
      "2021-07-06 [WeWantOut] 24M Teacher 25F Teacher USA -&gt; Europe\n",
      "2021-07-06 [IWantOut] 24 male, B.Sc environmental science, M.Sc ecological economics Ireland -&gt; Canada, Australia, East Africa, anywhere will be considered\n",
      "2021-07-06 [I want out] 24 male, B.Sc environmental science, M.Sc ecological economics Ireland -&gt; Canada, Australia, East Africa, anywhere\n",
      "2021-07-06 Any Gay Qatari ? or Qatari that supports the LBGTQ+ want to escape Qatar with me through marriage?\n",
      "2021-07-06 [WeWantOut] 26M ENG 26F OA USA -&gt; Europe\n",
      "2021-07-06 [WeWantOut] 26M ENG &amp; 26F OA USA -&gt; Europe\n",
      "2021-07-06 [I Want Out] 24M Teacher and 25F Teacher, USA -&gt; Europe\n",
      "2021-07-06 [IWantOut] 26M Software Engineer Brasil -&gt; Austria\n",
      "2021-07-06 [IWantOut] 30F lawyer Ecuador -&gt; EU\n",
      "2021-07-06 [IWantOut] 25F Plumber Canada -&gt; elsewhere in Canada\n",
      "2021-07-06 [IWantOut] 35M data scientist USA -&gt; Portugal\n",
      "2021-07-06 [IWantOut] 25F plumber, Alberta -&gt; B.C\n",
      "2021-07-06 [IWantOut] From India &gt; Anywhere\n",
      "2021-07-06 [IWantOut] 29F Social Worker/Child Therapist-&gt; anywhere in Europe\n",
      "2021-07-06 [IWantOut] 23M Georgian -&gt; Anywhere\n",
      "2021-07-06 29F Social Worker/Child Therapist Canada -&gt; anywhere in Europe\n",
      "2021-07-06 [IWantOut] 24F USA nurse -&gt; Poland\n",
      "2021-07-06 [IWantOut] 19F Brazil -&gt; Sweden\n",
      "2021-07-06 [IWantOut] 29F Journalist/Writer India -&gt; US/Canada/Australia/New Zealand\n",
      "2021-07-06 [IWantOut] 20F Philippines &gt; USA/Aus\n",
      "2021-07-06 [IWantOut] 19M US -&gt; Spain\n",
      "2021-07-06 [iwantout] 19M US &gt; SPAIN\n",
      "2021-07-06 {iwantout} 19M US &gt; Spain\n",
      "2021-07-06 [Discussion] Would people find useful a jobs site only for roles that offer visa sponsorship?\n",
      "2021-07-06 Smart WiFi Electrical Plug 16A Power Monitor Tuya Outlet Alexa Google Home\n",
      "2021-07-06 [WeWantOut] 38M MBA, System Administrator 33F Admin work USA -&gt; France maybe Spain\n",
      "2021-07-06 [IWantOut] 26M Programmer Pacific Islands-&gt; Australia\n",
      "2021-07-06 27, M, Canadian Pharmacist ==&gt; US (Florida) &gt; Qatar &gt; UAE (Dubai)\n",
      "2021-07-06 [IWantOut] 17M HS Senior US -&gt; Japan/Korea\n",
      "2021-07-06 [IWantOut] 16-18M High School Senior USA -&gt; Japan or Korea\n",
      "2021-07-06 [IWantOut] I have no idea what I'm doing\n",
      "2021-07-06 [IWantOut] I want to go to Canada but I am doing studies here and then in will do 4 years study in Canada do I need to worry that maybe immigration of Canada become harder?? &gt; Canada\n",
      "2021-07-06 [IWantOut] 24M Teacher Australia -&gt; European Country\n",
      "2021-07-06 [IWantOut] Australia 24M Teacher &gt; Europe\n",
      "2021-07-06 Just looking to meet someone new!\n",
      "2021-07-06 [IWantOut] 16F Iran -&gt; France\n",
      "2021-07-06 [IWantOut] 20sNB saudi arabia -&gt; sweden\n",
      "2021-07-06 [IWantOut] 30M Ireland -&gt; Australia\n",
      "2021-07-06 20sNB saudi arabia -&gt; sweden\n",
      "2021-07-06 20’sNB saudi arabia -&gt; sweden\n",
      "2021-07-06 20NB saudi arabia -&gt; sweden\n",
      "2021-07-06 18M saudi arabia -&gt; sweden\n",
      "2021-07-06 18 M saudi arabia -&gt; sweden\n",
      "2021-07-06 [IWantOut]26M Nigerian -&gt; Canada\n",
      "2021-07-06 [I WANT OUT] 26 M African- Any Western Country\n",
      "2021-07-06 [WeWantOut] 25F Digital Marketing 25M Sustainability Manager Romania -&gt; UK\n",
      "2021-07-06 [IWantOut] 23M Moroccan Software Engineer -&gt; Canada/US\n",
      "2021-07-06 [IWantOut] 25F Austria (Romanian Passport) -&gt; UK\n",
      "2021-07-06 [IWantOut] Canadian -&gt; Bahamas\n",
      "2021-07-06 24m canada ➡️ Caribbean\n",
      "2021-07-06 [IWantOut] 26F Canada -&gt; UK, Italy/EU\n",
      "2021-07-06 26F Canada -&gt; the UK, Italy / EU\n",
      "2021-07-06 28M India &gt; Canada or Ireland.\n",
      "2021-07-05 [IWantOut] 25F Nurse Germany -&gt; Australia/Canada/USA/New Zealand/UK\n",
      "2021-07-05 [IWantOut] 12M horny teen mongolia-&gt;middle of a jungle in Uganda\n",
      "2021-07-05 [IWantOut] 19M IT Student India -&gt;UK/Canada/US\n",
      "2021-07-05 [Discussion] Is it safe to own property in a developing country, for instance in Central or South America? Political instability scares me: a revolution, corruption or local gangs could \"expropriate\" me. Any information or advice to understand when it's a good idea and how to do things properly?\n",
      "2021-07-05 [IWantOut] 28M UK -&gt; Australia\n",
      "2021-07-05 [IWantOut] 28M BA / MA degree UK -&gt; Australia\n",
      "2021-07-05 Owning property in a tropical country\n",
      "2021-07-05 [IWantOut] 19M I.T. Student India -&gt; UK/Canada/US\n",
      "2021-07-05 I want out of the US\n",
      "2021-07-05 [IWantOut] 32M Hong Kong -&gt; US/ EU/ CANADA\n",
      "2021-07-05 [IWantOut] 32M Hong Kong -&gt; US (Ideally)/ EU/ UK/ CANADA/ JAPAN\n",
      "2021-07-05 [IWantOut] 32M Hong Kong -&gt; US (Ideally)/ EU/ UK/ CANADA/ JAPAN\n",
      "2021-07-05 [IWantOut] Relationship of 8 years with little evidence to support for Partner Visa .\n"
     ]
    }
   ],
   "source": [
    "titles = []\n",
    "for i in data['data']:\n",
    "    print(datetime.fromtimestamp(i['created_utc']).strftime(\"%Y-%m-%d\"), i['title'])\n",
    "    i = datetime.fromtimestamp(i['created_utc']).strftime(\"%Y-%m-%d\"), i['title']\n",
    "    titles.append(i)"
   ]
  },
  {
   "cell_type": "code",
   "execution_count": 8,
   "id": "c76b6f4c-9d52-4379-8909-301cfec4c2a7",
   "metadata": {},
   "outputs": [
    {
     "data": {
      "text/plain": [
       "100"
      ]
     },
     "execution_count": 8,
     "metadata": {},
     "output_type": "execute_result"
    }
   ],
   "source": [
    "len(titles)"
   ]
  },
  {
   "cell_type": "code",
   "execution_count": 9,
   "id": "6eba9977-be30-4101-bb68-99a12caa343e",
   "metadata": {},
   "outputs": [
    {
     "name": "stdout",
     "output_type": "stream",
     "text": [
      "1625637310\n"
     ]
    }
   ],
   "source": [
    "start_time = int(datetime.utcnow().timestamp())\n",
    "print(start_time)"
   ]
  },
  {
   "cell_type": "code",
   "execution_count": 10,
   "id": "a9d40a99-f320-4c05-8137-a6491c2f5856",
   "metadata": {},
   "outputs": [
    {
     "data": {
      "text/plain": [
       "1625494340"
      ]
     },
     "execution_count": 10,
     "metadata": {},
     "output_type": "execute_result"
    }
   ],
   "source": [
    "data['data'][- 1]['created_utc']"
   ]
  },
  {
   "cell_type": "code",
   "execution_count": 11,
   "id": "c85f5553-da7a-4e12-b8aa-5d078c6c6a6e",
   "metadata": {},
   "outputs": [],
   "source": [
    "# date = str(int(datetime.utcnow().timestamp()))\n",
    "# while True:\n",
    "#     url = f\"https://api.pushshift.io/reddit/submission/search?limit=1000&sort=desc&subreddit={subreddit}&before=\" + date\n",
    "#     data = requests.get(url).text\n",
    "#     data = json.loads(data)\n",
    "#     titles = []\n",
    "#     for post in data['data']:\n",
    "#         post = f'{datetime.fromtimestamp(i[\"created_utc\"]).strftime(\"%Y-%m-%d\")}, {i[\"title\"]}'\n",
    "#         titles.append(post)\n",
    "#     date = str(data['data'][- 1]['created_utc'])\n",
    "#     with open(f'{subreddit}_scraped_post_title.txt', 'a', encoding=\"utf-8\") as file:\n",
    "#         file.write('\\n'.join(titles))"
   ]
  },
  {
   "cell_type": "code",
   "execution_count": 12,
   "id": "54a99ffe-7f03-42ff-b112-a1368b905b65",
   "metadata": {},
   "outputs": [],
   "source": [
    "def scrape_title(subreddit, number_of_post):\n",
    "    date = str(int(datetime.utcnow().timestamp()))\n",
    "    post_count = 0\n",
    "    while post_count < number_of_post:\n",
    "        url = f\"https://api.pushshift.io/reddit/submission/search?limit=1000&sort=desc&subreddit={subreddit}&before=\" + date\n",
    "        data = requests.get(url).text\n",
    "        data = json.loads(data)\n",
    "        titles = []\n",
    "        for post in data['data']:\n",
    "            titles.append(post[\"title\"])\n",
    "        date = str(data['data'][- 1]['created_utc'])\n",
    "        with open(f'{subreddit}_scraped_post_title.txt', 'a', encoding=\"utf-8\") as file:\n",
    "            file.write('\\n'.join(titles) + '\\n')\n",
    "        print(f\"Scraped {post_count} post titles from {subreddit}\")\n",
    "        post_count += 100\n",
    "    return f\"Finished scraping {post_count} post titles from {subreddit}\""
   ]
  },
  {
   "cell_type": "code",
   "execution_count": null,
   "id": "822e3d26-196b-47b8-b95e-ed9eeb5c5351",
   "metadata": {},
   "outputs": [],
   "source": [
    "scrape_title('worldnews', 100)"
   ]
  },
  {
   "cell_type": "code",
   "execution_count": 1,
   "id": "213ee8c7-8d4d-4711-a615-84b942d8e8b3",
   "metadata": {},
   "outputs": [],
   "source": [
    "def scrape_post(subreddit, number_of_post):\n",
    "    date = int(datetime.utcnow().timestamp())\n",
    "    post_count = 0\n",
    "    while post_count < number_of_post:\n",
    "        try:\n",
    "            url = f\"https://api.pushshift.io/reddit/submission/search?limit=1000&sort=desc&subreddit={subreddit}&before={str(date)}\"\n",
    "        except requests.exceptions.ConnectionError:\n",
    "            return \"Please make sure that you are connected to the internet and try again.\"\n",
    "\n",
    "        data = requests.get(url).json()\n",
    "\n",
    "        if len(data) == 0:\n",
    "            print(\n",
    "                f\"The subreddit doesn't have any more posts to scrape.\\n Finished scraping {post_count} post titles from {subreddit}\")\n",
    "            break\n",
    "        \n",
    "        df = pd.DataFrame(data['data'])\n",
    "        if not isfile(f'{subreddit}.csv'):\n",
    "            df.to_csv(f'{subreddit}.csv', mode='w')\n",
    "        else:\n",
    "            df.to_csv(f'{subreddit}.csv', mode='a', header=False)\n",
    "        \n",
    "        date = data['data'][- 1]['created_utc']\n",
    "        post_count += 100\n",
    "        print(f\"Scraped {post_count} post titles from {subreddit}\")\n",
    "    return f\"Finished scraping {post_count} post titles from {subreddit}\""
   ]
  },
  {
   "cell_type": "code",
   "execution_count": null,
   "id": "c33e33c0-a8b0-4a09-9c7e-bbbbc1fbd795",
   "metadata": {},
   "outputs": [],
   "source": []
  }
 ],
 "metadata": {
  "kernelspec": {
   "display_name": "Python 3",
   "language": "python",
   "name": "python3"
  },
  "language_info": {
   "codemirror_mode": {
    "name": "ipython",
    "version": 3
   },
   "file_extension": ".py",
   "mimetype": "text/x-python",
   "name": "python",
   "nbconvert_exporter": "python",
   "pygments_lexer": "ipython3",
   "version": "3.9.5"
  }
 },
 "nbformat": 4,
 "nbformat_minor": 5
}
